{
 "cells": [
  {
   "cell_type": "code",
   "execution_count": null,
   "id": "afbf6b22-7fd3-4184-972e-4152e078f2f8",
   "metadata": {},
   "outputs": [],
   "source": [
    "class Solution:\n",
    "    def isPalindrome(self, x: int) -> bool:\n",
    "         num = x \n",
    "         reverse = 0\n",
    "         while(x>0):\n",
    "            lastdigit = x%10\n",
    "            reverse = reverse*10+lastdigit\n",
    "            x = x//10\n",
    "        \n",
    "         return True if reverse == num else False"
   ]
  }
 ],
 "metadata": {
  "kernelspec": {
   "display_name": "Python 3 (ipykernel)",
   "language": "python",
   "name": "python3"
  },
  "language_info": {
   "codemirror_mode": {
    "name": "ipython",
    "version": 3
   },
   "file_extension": ".py",
   "mimetype": "text/x-python",
   "name": "python",
   "nbconvert_exporter": "python",
   "pygments_lexer": "ipython3",
   "version": "3.11.5"
  }
 },
 "nbformat": 4,
 "nbformat_minor": 5
}
