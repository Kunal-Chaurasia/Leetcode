{
 "cells": [
  {
   "cell_type": "code",
   "execution_count": null,
   "id": "9fa3c0e6-832e-4318-9b8e-3cf66e4f38d7",
   "metadata": {},
   "outputs": [],
   "source": [
    "class Solution:\n",
    "    def lengthOfLastWord(self, s: str) -> int:\n",
    "        i, length = len(s) - 1 , 0\n",
    "\n",
    "        while s[i] == ' ':\n",
    "            i -= 1\n",
    "        while s[i] != ' ' and i >= 0:\n",
    "            length += 1\n",
    "            i-= 1\n",
    "        return length"
   ]
  }
 ],
 "metadata": {
  "kernelspec": {
   "display_name": "Python 3 (ipykernel)",
   "language": "python",
   "name": "python3"
  },
  "language_info": {
   "codemirror_mode": {
    "name": "ipython",
    "version": 3
   },
   "file_extension": ".py",
   "mimetype": "text/x-python",
   "name": "python",
   "nbconvert_exporter": "python",
   "pygments_lexer": "ipython3",
   "version": "3.11.5"
  }
 },
 "nbformat": 4,
 "nbformat_minor": 5
}
