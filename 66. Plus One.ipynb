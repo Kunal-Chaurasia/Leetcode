{
 "cells": [
  {
   "cell_type": "code",
   "execution_count": null,
   "id": "6a768077-10fb-49b1-b1d8-4dc1a13f7718",
   "metadata": {},
   "outputs": [],
   "source": [
    "class Solution:\n",
    "    def plusOne(self, digits: List[int]) -> List[int]:\n",
    "        digits = digits[::-1]\n",
    "        one, i = 1, 0\n",
    "\n",
    "        while one:\n",
    "            if i < len(digits):\n",
    "                if digits[i] == 9:\n",
    "                    digits[i] = 0\n",
    "                else:\n",
    "                    digits[i] += 1\n",
    "                    one = 0\n",
    "            else:\n",
    "                digits.append(1)\n",
    "                one = 0\n",
    "            i += 1\n",
    "        return digits[::-1]"
   ]
  }
 ],
 "metadata": {
  "kernelspec": {
   "display_name": "Python 3 (ipykernel)",
   "language": "python",
   "name": "python3"
  },
  "language_info": {
   "codemirror_mode": {
    "name": "ipython",
    "version": 3
   },
   "file_extension": ".py",
   "mimetype": "text/x-python",
   "name": "python",
   "nbconvert_exporter": "python",
   "pygments_lexer": "ipython3",
   "version": "3.11.5"
  }
 },
 "nbformat": 4,
 "nbformat_minor": 5
}
