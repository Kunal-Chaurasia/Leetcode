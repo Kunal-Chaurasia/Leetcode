{
 "cells": [
  {
   "cell_type": "code",
   "execution_count": null,
   "id": "81e7f30e-f195-4a55-9e3c-c297931c5523",
   "metadata": {},
   "outputs": [],
   "source": [
    "class Solution:\n",
    "    def mySqrt(self, x: int) -> int:\n",
    "        l, r = 0, x\n",
    "        res = 0\n",
    "\n",
    "        while l <= r:\n",
    "            m = l + ((r-l) // 2)\n",
    "            if m**2 > x:\n",
    "                r = m-1\n",
    "            elif m**2 < x:\n",
    "                l = m+1\n",
    "                res = m\n",
    "            else:\n",
    "                return m\n",
    "        return res"
   ]
  }
 ],
 "metadata": {
  "kernelspec": {
   "display_name": "Python 3 (ipykernel)",
   "language": "python",
   "name": "python3"
  },
  "language_info": {
   "codemirror_mode": {
    "name": "ipython",
    "version": 3
   },
   "file_extension": ".py",
   "mimetype": "text/x-python",
   "name": "python",
   "nbconvert_exporter": "python",
   "pygments_lexer": "ipython3",
   "version": "3.11.5"
  }
 },
 "nbformat": 4,
 "nbformat_minor": 5
}
