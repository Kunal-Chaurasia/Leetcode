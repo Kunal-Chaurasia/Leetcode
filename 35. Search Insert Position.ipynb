{
 "cells": [
  {
   "cell_type": "code",
   "execution_count": null,
   "id": "4f03730c-1964-490c-ac07-6f632994e9a7",
   "metadata": {},
   "outputs": [],
   "source": [
    "class Solution:\n",
    "    def searchInsert(self, nums: List[int], target: int) -> int:\n",
    "        l, r = 0, len(nums) -1\n",
    "\n",
    "        while l <= r:\n",
    "            mid = (l+r) // 2\n",
    "            if target == nums[mid]:\n",
    "                return mid\n",
    "            if target > nums[mid]:\n",
    "                l = mid + 1\n",
    "            if target < nums[mid]:\n",
    "                r = mid - 1\n",
    "        return l"
   ]
  }
 ],
 "metadata": {
  "kernelspec": {
   "display_name": "Python 3 (ipykernel)",
   "language": "python",
   "name": "python3"
  },
  "language_info": {
   "codemirror_mode": {
    "name": "ipython",
    "version": 3
   },
   "file_extension": ".py",
   "mimetype": "text/x-python",
   "name": "python",
   "nbconvert_exporter": "python",
   "pygments_lexer": "ipython3",
   "version": "3.11.5"
  }
 },
 "nbformat": 4,
 "nbformat_minor": 5
}
