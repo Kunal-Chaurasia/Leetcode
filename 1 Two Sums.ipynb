{
 "cells": [
  {
   "cell_type": "code",
   "execution_count": null,
   "id": "db05bb93-f330-4d3b-bdfd-eb5f3f82072a",
   "metadata": {},
   "outputs": [],
   "source": [
    "class Solution:\n",
    "    def twoSum(self, nums: List[int], target: int) -> List[int]:\n",
    "        prevmap = {} # val : index\n",
    "\n",
    "        for i, n in enumerate(nums):\n",
    "            diff = target - n\n",
    "            if diff in prevmap:\n",
    "                return [prevmap[diff], i]\n",
    "            prevmap[n] = i\n",
    "        return"
   ]
  }
 ],
 "metadata": {
  "kernelspec": {
   "display_name": "Python 3 (ipykernel)",
   "language": "python",
   "name": "python3"
  },
  "language_info": {
   "codemirror_mode": {
    "name": "ipython",
    "version": 3
   },
   "file_extension": ".py",
   "mimetype": "text/x-python",
   "name": "python",
   "nbconvert_exporter": "python",
   "pygments_lexer": "ipython3",
   "version": "3.11.5"
  }
 },
 "nbformat": 4,
 "nbformat_minor": 5
}
