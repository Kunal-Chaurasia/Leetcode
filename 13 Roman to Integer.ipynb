{
 "cells": [
  {
   "cell_type": "code",
   "execution_count": null,
   "id": "37d45230-2c90-4a86-ac69-8883f4ecc3e0",
   "metadata": {},
   "outputs": [],
   "source": [
    "class Solution:\n",
    "    def romanToInt(self, s: str) -> int:\n",
    "        roman = {'I' : 1, 'V' : 5, 'X' : 10, 'L' : 50, 'C' : 100, 'D' : 500, 'M' : 1000}\n",
    "        res = 0\n",
    "        for i in range(len(s)):\n",
    "            if i + 1 < len(s) and roman[s[i]] < roman[s[i+1]]:\n",
    "                res -= roman[s[i]]\n",
    "            else:\n",
    "                res += roman[s[i]]\n",
    "        return res"
   ]
  }
 ],
 "metadata": {
  "kernelspec": {
   "display_name": "Python 3 (ipykernel)",
   "language": "python",
   "name": "python3"
  },
  "language_info": {
   "codemirror_mode": {
    "name": "ipython",
    "version": 3
   },
   "file_extension": ".py",
   "mimetype": "text/x-python",
   "name": "python",
   "nbconvert_exporter": "python",
   "pygments_lexer": "ipython3",
   "version": "3.11.5"
  }
 },
 "nbformat": 4,
 "nbformat_minor": 5
}
