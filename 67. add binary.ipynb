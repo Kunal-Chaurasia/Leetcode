{
 "cells": [
  {
   "cell_type": "code",
   "execution_count": null,
   "id": "1523f82e-4c1c-4622-ac62-e6696549138b",
   "metadata": {},
   "outputs": [],
   "source": [
    "class Solution:\n",
    "    def addBinary(self, a: str, b: str) -> str:\n",
    "        res = \"\"\n",
    "        carry = 0\n",
    "        a, b = a[::-1], b[::-1]\n",
    "\n",
    "        for i in range(max(len(a), len(b))):\n",
    "            digitA = ord(a[i]) - ord(\"0\") if i < len(a) else 0\n",
    "            digitB = ord(b[i]) - ord(\"0\") if i < len(b) else 0\n",
    "\n",
    "            total = digitA + digitB + carry\n",
    "            char = str(total % 2)\n",
    "            res = char + res\n",
    "            carry = total // 2\n",
    "        if carry:\n",
    "            res = \"1\" + res\n",
    "        return res"
   ]
  }
 ],
 "metadata": {
  "kernelspec": {
   "display_name": "Python 3 (ipykernel)",
   "language": "python",
   "name": "python3"
  },
  "language_info": {
   "codemirror_mode": {
    "name": "ipython",
    "version": 3
   },
   "file_extension": ".py",
   "mimetype": "text/x-python",
   "name": "python",
   "nbconvert_exporter": "python",
   "pygments_lexer": "ipython3",
   "version": "3.11.5"
  }
 },
 "nbformat": 4,
 "nbformat_minor": 5
}
